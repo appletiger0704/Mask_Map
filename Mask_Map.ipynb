{
  "nbformat": 4,
  "nbformat_minor": 0,
  "metadata": {
    "colab": {
      "provenance": [],
      "authorship_tag": "ABX9TyMebrbzwv83AiRAgBC8Eo1N",
      "include_colab_link": true
    },
    "kernelspec": {
      "name": "python3",
      "display_name": "Python 3"
    },
    "language_info": {
      "name": "python"
    }
  },
  "cells": [
    {
      "cell_type": "markdown",
      "metadata": {
        "id": "view-in-github",
        "colab_type": "text"
      },
      "source": [
        "<a href=\"https://colab.research.google.com/github/appletiger0704/Mask_Map/blob/main/Mask_Map.ipynb\" target=\"_parent\"><img src=\"https://colab.research.google.com/assets/colab-badge.svg\" alt=\"Open In Colab\"/></a>"
      ]
    },
    {
      "cell_type": "code",
      "execution_count": null,
      "metadata": {
        "id": "RgY3nNUanPRu"
      },
      "outputs": [],
      "source": [
        "import requests\n",
        "import json\n",
        "from pprint import pprint\n",
        "\n",
        "\n",
        "# 利用 requests 對 API 來源發送一個請求\n",
        "url = 'https://raw.githubusercontent.com/kiang/pharmacies/master/json/points.json'\n",
        "response = requests.get(url)\n",
        "\n",
        "# 將請求回應的內容存成一個字串格式\n",
        "d = response.text\n",
        "\n",
        "# 將長得像 json 格式的字串解析成字典或列表\n",
        "# json中 object 將轉換成 dict, array 將轉換成 list\n",
        "data = json.loads(d)\n",
        "\n",
        "# 由於print有保護機制，避免印出太多資料，故改用pprint\n",
        "# 或是在最後一行打出變數即可印出結果\n",
        "data"
      ]
    },
    {
      "cell_type": "code",
      "source": [
        "# 計算各地區藥局數量\n",
        "med_count = {}\n",
        "\n",
        "# 填入欄位名稱\n",
        "for i, d in enumerate(data[\"features\"]):\n",
        "    conunty = d[\"properties\"][\"address\"][:3]\n",
        "    if conunty not in med_count:\n",
        "         med_count[conunty] = 1\n",
        "    elif conunty in med_count:\n",
        "         med_count[conunty] += 1\n",
        "\n",
        "med_count\n",
        "# {'台北市': 123, '新北市': 456 ...}"
      ],
      "metadata": {
        "colab": {
          "base_uri": "https://localhost:8080/"
        },
        "id": "dKme7eFeq7V5",
        "outputId": "f7acf634-99b8-40fc-99ad-ce4b510140ec"
      },
      "execution_count": 24,
      "outputs": [
        {
          "output_type": "execute_result",
          "data": {
            "text/plain": [
              "{'臺北市': 340,\n",
              " '高雄市': 424,\n",
              " '臺中市': 436,\n",
              " '臺南市': 280,\n",
              " '基隆市': 57,\n",
              " '新竹市': 39,\n",
              " '嘉義市': 67,\n",
              " '新北市': 507,\n",
              " '桃園市': 271,\n",
              " '新竹縣': 48,\n",
              " '宜蘭縣': 76,\n",
              " '苗栗縣': 57,\n",
              " '彰化縣': 181,\n",
              " '南投縣': 67,\n",
              " '雲林縣': 131,\n",
              " '嘉義縣': 84,\n",
              " '屏東縣': 140,\n",
              " '澎湖縣': 11,\n",
              " '花蓮縣': 47,\n",
              " '臺東縣': 23,\n",
              " '金門縣': 6,\n",
              " '連江縣': 1}"
            ]
          },
          "metadata": {},
          "execution_count": 24
        }
      ]
    },
    {
      "cell_type": "code",
      "source": [
        "# 計算每個地區成人口罩的剩餘數量\n",
        "mask_count = {}\n",
        "\n",
        "# 填入欄位名稱\n",
        "for d in data[\"features\"]:\n",
        "    conunty = d[\"properties\"][\"address\"][0:3]\n",
        "    sum = 0\n",
        "    if conunty not in mask_count:\n",
        "      mask_count[conunty] = 0\n",
        "    mask_count[conunty] += d[\"properties\"][\"mask_adult\"]\n",
        "\n",
        "# 將結果從大到小排列\n",
        "mask_count = dict(sorted(mask_count.items(), key=lambda item: item[1], reverse=True))\n",
        "\n",
        "mask_count\n",
        "# {'台北市': 12345, '新北市': 45678 ...}"
      ],
      "metadata": {
        "colab": {
          "base_uri": "https://localhost:8080/"
        },
        "id": "C_psKwl-4CoR",
        "outputId": "c8408426-bdda-45f8-dff4-74f60c3a3760"
      },
      "execution_count": 23,
      "outputs": [
        {
          "output_type": "execute_result",
          "data": {
            "text/plain": [
              "{'新北市': 677660,\n",
              " '臺中市': 556440,\n",
              " '高雄市': 428940,\n",
              " '臺南市': 408400,\n",
              " '桃園市': 345600,\n",
              " '臺北市': 323660,\n",
              " '彰化縣': 219400,\n",
              " '雲林縣': 199470,\n",
              " '屏東縣': 184250,\n",
              " '苗栗縣': 134180,\n",
              " '嘉義縣': 113180,\n",
              " '嘉義市': 107840,\n",
              " '宜蘭縣': 106900,\n",
              " '南投縣': 91240,\n",
              " '基隆市': 80100,\n",
              " '花蓮縣': 57330,\n",
              " '新竹縣': 53760,\n",
              " '新竹市': 45630,\n",
              " '臺東縣': 28510,\n",
              " '金門縣': 15510,\n",
              " '澎湖縣': 12600,\n",
              " '連江縣': 7930}"
            ]
          },
          "metadata": {},
          "execution_count": 23
        }
      ]
    }
  ]
}