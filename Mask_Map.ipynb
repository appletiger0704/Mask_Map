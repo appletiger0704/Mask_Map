{
  "nbformat": 4,
  "nbformat_minor": 0,
  "metadata": {
    "colab": {
      "provenance": [],
      "authorship_tag": "ABX9TyNho4d+5sozLXnh1tzDNxK1",
      "include_colab_link": true
    },
    "kernelspec": {
      "name": "python3",
      "display_name": "Python 3"
    },
    "language_info": {
      "name": "python"
    }
  },
  "cells": [
    {
      "cell_type": "markdown",
      "metadata": {
        "id": "view-in-github",
        "colab_type": "text"
      },
      "source": [
        "<a href=\"https://colab.research.google.com/github/appletiger0704/Mask_Map/blob/main/Mask_Map.ipynb\" target=\"_parent\"><img src=\"https://colab.research.google.com/assets/colab-badge.svg\" alt=\"Open In Colab\"/></a>"
      ]
    },
    {
      "cell_type": "code",
      "execution_count": null,
      "metadata": {
        "id": "RgY3nNUanPRu"
      },
      "outputs": [],
      "source": [
        "import requests\n",
        "import json\n",
        "# from pprint import pprint\n",
        "\n",
        "# 利用 requests 對 API 來源發送一個請求\n",
        "url = 'https://raw.githubusercontent.com/kiang/pharmacies/master/json/points.json'\n",
        "response = requests.get(url)\n",
        "\n",
        "# 將請求回應的內容存成一個字串格式\n",
        "d = response.text\n",
        "# data = response.json()\n",
        "\n",
        "# 將長得像 json 格式的字串解析成python的字典或列表\n",
        "# json中 object 將轉換成 dict, array 將轉換成 list\n",
        "data = json.loads(d)\n",
        "\n",
        "# 由於print有保護機制，避免印出太多資料，故改用pprint\n",
        "# 或是在最後一行打出變數即可印出結果\n",
        "\n",
        "data"
      ]
    },
    {
      "cell_type": "code",
      "source": [
        "# 計算各地區藥局數量\n",
        "med_count = {}\n",
        "\n",
        "# 填入欄位名稱\n",
        "for i, d in enumerate(data[\"features\"]):\n",
        "    conunty = d[\"properties\"][\"address\"][:3]\n",
        "    if conunty not in med_count:\n",
        "         med_count[conunty] = 1\n",
        "    elif conunty in med_count:\n",
        "         med_count[conunty] += 1\n",
        "\n",
        "med_count\n",
        "# {'台北市': 123, '新北市': 456 ...}"
      ],
      "metadata": {
        "id": "dKme7eFeq7V5"
      },
      "execution_count": null,
      "outputs": []
    },
    {
      "cell_type": "code",
      "source": [
        "# 計算每個地區成人口罩的剩餘數量\n",
        "mask_count = {}\n",
        "\n",
        "# 填入欄位名稱\n",
        "for d in data[\"features\"]:\n",
        "    conunty = d[\"properties\"][\"address\"][0:3]\n",
        "    sum = 0\n",
        "    if conunty not in mask_count:\n",
        "      mask_count[conunty] = 0\n",
        "    mask_count[conunty] += d[\"properties\"][\"mask_adult\"]\n",
        "\n",
        "# 將結果從大到小排列\n",
        "mask_count = dict(sorted(mask_count.items(), key=lambda item: item[1], reverse=True))\n",
        "\n",
        "mask_count\n",
        "# {'台北市': 12345, '新北市': 45678 ...}"
      ],
      "metadata": {
        "id": "C_psKwl-4CoR"
      },
      "execution_count": null,
      "outputs": []
    },
    {
      "cell_type": "code",
      "source": [
        "# import sqlite3\n",
        "# import datetime\n",
        "\n",
        "# conn = sqlite3.connect('mask_map.db')\n",
        "# c = conn.cursor()\n",
        "\n",
        "# # 新增且清空資料表\n",
        "# c.execute('''CREATE TABLE IF NOT EXISTS pharmacies\n",
        "#              (city text, counts text, createdAt datetime)''')\n",
        "# c.execute('''DELETE FROM pharmacies''')\n",
        "# conn.commit()\n",
        "\n",
        "# # 新增資料\n",
        "# for city,counts in med_count.items():\n",
        "#     t = datetime.datetime.now()\n",
        "#     print(f\"INSERT INTO stocks VALUES ('{city}', {counts}, '{t}')\")\n",
        "#     c.execute(f\"INSERT INTO pharmacies VALUES ('{city}', {counts}, '{t}')\")\n",
        "# conn.commit()\n",
        "\n",
        "# # 查詢資料\n",
        "# c.execute(\"SELECT * FROM pharmacies\")\n",
        "# print(c.fetchall())\n",
        "\n",
        "# conn.commit()\n",
        "# conn.close()"
      ],
      "metadata": {
        "id": "YYPEruyAZJOr"
      },
      "execution_count": null,
      "outputs": []
    },
    {
      "cell_type": "code",
      "source": [
        "import sqlite3\n",
        "import datetime\n",
        "\n",
        "#建立資料庫\n",
        "conn = sqlite3.connect(\"mask_map.db\")\n",
        "c = conn.cursor()\n",
        "\n",
        "#建立資料表格\n",
        "c.execute('''CREATE TABLE IF NOT EXISTS pharmacies\n",
        "      (city text, counts text, createdAt datetime)''')\n",
        "#清空資料表格\n",
        "c.execute('''DELETE FROM pharmacies''')\n",
        "conn.commit()\n",
        "\n",
        "#新增資料\n",
        "for city, counts in med_count.items():\n",
        "  t = datetime.datetime.now()\n",
        "  print(f'INSERT INTO pharmacies VALUES({city}, {counts}, {t})')\n",
        "  c.execute(f'''INSERT INTO pharmacies VALUES('{city}', '{counts}', '{t}')''')\n",
        "  # c.execute(f\"INSERT INTO pharmacies VALUES ('{city}', {counts}, '{t}')\")\n",
        "  conn.commit()\n",
        "\n",
        "#查詢資料\n",
        "c.execute('''SELECT * FROM pharmacies WHERE city = '臺北市' ''')\n",
        "print(c.fetchall())\n",
        "conn.commit()"
      ],
      "metadata": {
        "id": "xWtXEYccx1zd",
        "colab": {
          "base_uri": "https://localhost:8080/"
        },
        "outputId": "ce2bf2df-9fb7-467b-8ad1-8bfc0a501316"
      },
      "execution_count": 8,
      "outputs": [
        {
          "output_type": "stream",
          "name": "stdout",
          "text": [
            "INSERT INTO pharmacies VALUES(臺北市, 340, 2023-06-28 13:35:25.186546)\n",
            "INSERT INTO pharmacies VALUES(高雄市, 424, 2023-06-28 13:35:25.201546)\n",
            "INSERT INTO pharmacies VALUES(臺中市, 436, 2023-06-28 13:35:25.215874)\n",
            "INSERT INTO pharmacies VALUES(臺南市, 280, 2023-06-28 13:35:25.229259)\n",
            "INSERT INTO pharmacies VALUES(基隆市, 57, 2023-06-28 13:35:25.242014)\n",
            "INSERT INTO pharmacies VALUES(新竹市, 39, 2023-06-28 13:35:25.254813)\n",
            "INSERT INTO pharmacies VALUES(嘉義市, 67, 2023-06-28 13:35:25.268040)\n",
            "INSERT INTO pharmacies VALUES(新北市, 507, 2023-06-28 13:35:25.280395)\n",
            "INSERT INTO pharmacies VALUES(桃園市, 271, 2023-06-28 13:35:25.292557)\n",
            "INSERT INTO pharmacies VALUES(新竹縣, 48, 2023-06-28 13:35:25.304150)\n",
            "INSERT INTO pharmacies VALUES(宜蘭縣, 76, 2023-06-28 13:35:25.316553)\n",
            "INSERT INTO pharmacies VALUES(苗栗縣, 57, 2023-06-28 13:35:25.330144)\n",
            "INSERT INTO pharmacies VALUES(彰化縣, 181, 2023-06-28 13:35:25.342368)\n",
            "INSERT INTO pharmacies VALUES(南投縣, 67, 2023-06-28 13:35:25.354963)\n",
            "INSERT INTO pharmacies VALUES(雲林縣, 131, 2023-06-28 13:35:25.367805)\n",
            "INSERT INTO pharmacies VALUES(嘉義縣, 84, 2023-06-28 13:35:25.382938)\n",
            "INSERT INTO pharmacies VALUES(屏東縣, 140, 2023-06-28 13:35:25.396402)\n",
            "INSERT INTO pharmacies VALUES(澎湖縣, 11, 2023-06-28 13:35:25.408208)\n",
            "INSERT INTO pharmacies VALUES(花蓮縣, 47, 2023-06-28 13:35:25.422318)\n",
            "INSERT INTO pharmacies VALUES(臺東縣, 23, 2023-06-28 13:35:25.436564)\n",
            "INSERT INTO pharmacies VALUES(金門縣, 6, 2023-06-28 13:35:25.448158)\n",
            "INSERT INTO pharmacies VALUES(連江縣, 1, 2023-06-28 13:35:25.459977)\n",
            "[('臺北市', '340', '2023-06-28 13:35:25.186546')]\n"
          ]
        }
      ]
    },
    {
      "cell_type": "code",
      "source": [
        "import sqlite3\n",
        "import datetime\n",
        "\n",
        "# conn = sqlite3.connect(\"mask_map.db\")\n",
        "# c = conn.cursor()\n",
        "\n",
        "c.execute('''CREATE TABLE IF NOT EXISTS mask(\n",
        "  city text,\n",
        "  maskCount text,\n",
        "  createdAt datetime\n",
        ")''')\n",
        "c.execute('''DELETE FROM mask''')\n",
        "conn.commit()\n",
        "\n",
        "# 新增資料\n",
        "for city, maskCount in mask_count.items():\n",
        "  t = datetime.datetime.now()\n",
        "  print(f\"INSERT INTO mask VALUES('{city}', '{maskCount}', '{t}')\")\n",
        "  c.execute(f'''INSERT INTO mask VALUES ('{city}', '{maskCount}', '{t}')''')\n",
        "  conn.commit()\n",
        "\n",
        "c.execute('''SELECT * FROM mask WHERE city = '宜蘭縣' ''')\n",
        "print(c.fetchone())\n",
        "conn.commit()\n",
        "conn.close()"
      ],
      "metadata": {
        "id": "VamlRuH828SF",
        "colab": {
          "base_uri": "https://localhost:8080/"
        },
        "outputId": "305a5b7a-c3f3-49b4-d38b-d065f77507bd"
      },
      "execution_count": 9,
      "outputs": [
        {
          "output_type": "stream",
          "name": "stdout",
          "text": [
            "INSERT INTO mask VALUES('新北市', '677660', '2023-06-28 13:35:28.021791')\n",
            "INSERT INTO mask VALUES('臺中市', '556440', '2023-06-28 13:35:28.033141')\n",
            "INSERT INTO mask VALUES('高雄市', '428940', '2023-06-28 13:35:28.043412')\n",
            "INSERT INTO mask VALUES('臺南市', '408400', '2023-06-28 13:35:28.053524')\n",
            "INSERT INTO mask VALUES('桃園市', '345600', '2023-06-28 13:35:28.064727')\n",
            "INSERT INTO mask VALUES('臺北市', '323660', '2023-06-28 13:35:28.076200')\n",
            "INSERT INTO mask VALUES('彰化縣', '219400', '2023-06-28 13:35:28.086988')\n",
            "INSERT INTO mask VALUES('雲林縣', '199470', '2023-06-28 13:35:28.098758')\n",
            "INSERT INTO mask VALUES('屏東縣', '184250', '2023-06-28 13:35:28.110460')\n",
            "INSERT INTO mask VALUES('苗栗縣', '134180', '2023-06-28 13:35:28.122360')\n",
            "INSERT INTO mask VALUES('嘉義縣', '113180', '2023-06-28 13:35:28.134290')\n",
            "INSERT INTO mask VALUES('嘉義市', '107840', '2023-06-28 13:35:28.145797')\n",
            "INSERT INTO mask VALUES('宜蘭縣', '106900', '2023-06-28 13:35:28.157114')\n",
            "INSERT INTO mask VALUES('南投縣', '91240', '2023-06-28 13:35:28.168111')\n",
            "INSERT INTO mask VALUES('基隆市', '80100', '2023-06-28 13:35:28.179739')\n",
            "INSERT INTO mask VALUES('花蓮縣', '57330', '2023-06-28 13:35:28.190993')\n",
            "INSERT INTO mask VALUES('新竹縣', '53760', '2023-06-28 13:35:28.204857')\n",
            "INSERT INTO mask VALUES('新竹市', '45630', '2023-06-28 13:35:28.217552')\n",
            "INSERT INTO mask VALUES('臺東縣', '28510', '2023-06-28 13:35:28.231886')\n",
            "INSERT INTO mask VALUES('金門縣', '15510', '2023-06-28 13:35:28.246799')\n",
            "INSERT INTO mask VALUES('澎湖縣', '12600', '2023-06-28 13:35:28.259800')\n",
            "INSERT INTO mask VALUES('連江縣', '7930', '2023-06-28 13:35:28.271549')\n",
            "('宜蘭縣', '106900', '2023-06-28 13:35:28.157114')\n"
          ]
        }
      ]
    }
  ]
}