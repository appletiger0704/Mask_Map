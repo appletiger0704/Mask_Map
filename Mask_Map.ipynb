{
  "nbformat": 4,
  "nbformat_minor": 0,
  "metadata": {
    "colab": {
      "provenance": [],
      "authorship_tag": "ABX9TyNSAcvxBZAWcO1niWDQHkFj",
      "include_colab_link": true
    },
    "kernelspec": {
      "name": "python3",
      "display_name": "Python 3"
    },
    "language_info": {
      "name": "python"
    }
  },
  "cells": [
    {
      "cell_type": "markdown",
      "metadata": {
        "id": "view-in-github",
        "colab_type": "text"
      },
      "source": [
        "<a href=\"https://colab.research.google.com/github/appletiger0704/Mask_Map/blob/main/Mask_Map.ipynb\" target=\"_parent\"><img src=\"https://colab.research.google.com/assets/colab-badge.svg\" alt=\"Open In Colab\"/></a>"
      ]
    },
    {
      "cell_type": "code",
      "execution_count": null,
      "metadata": {
        "id": "RgY3nNUanPRu"
      },
      "outputs": [],
      "source": [
        "import requests\n",
        "import json\n",
        "from pprint import pprint\n",
        "\n",
        "\n",
        "# 利用 requests 對 API 來源發送一個請求\n",
        "url = 'https://raw.githubusercontent.com/kiang/pharmacies/master/json/points.json'\n",
        "response = requests.get(url)\n",
        "\n",
        "# 將請求回應的內容存成一個字串格式\n",
        "d = response.text\n",
        "# data = response.json()\n",
        "\n",
        "# 將長得像 json 格式的字串解析成python的字典或列表\n",
        "# json中 object 將轉換成 dict, array 將轉換成 list\n",
        "data = json.loads(d)\n",
        "\n",
        "# 由於print有保護機制，避免印出太多資料，故改用pprint\n",
        "# 或是在最後一行打出變數即可印出結果\n",
        "\n",
        "data"
      ]
    },
    {
      "cell_type": "code",
      "source": [
        "# 計算各地區藥局數量\n",
        "med_count = {}\n",
        "\n",
        "# 填入欄位名稱\n",
        "for i, d in enumerate(data[\"features\"]):\n",
        "    conunty = d[\"properties\"][\"address\"][:3]\n",
        "    if conunty not in med_count:\n",
        "         med_count[conunty] = 1\n",
        "    elif conunty in med_count:\n",
        "         med_count[conunty] += 1\n",
        "\n",
        "med_count\n",
        "# {'台北市': 123, '新北市': 456 ...}"
      ],
      "metadata": {
        "id": "dKme7eFeq7V5"
      },
      "execution_count": null,
      "outputs": []
    },
    {
      "cell_type": "code",
      "source": [
        "# 計算每個地區成人口罩的剩餘數量\n",
        "mask_count = {}\n",
        "\n",
        "# 填入欄位名稱\n",
        "for d in data[\"features\"]:\n",
        "    conunty = d[\"properties\"][\"address\"][0:3]\n",
        "    sum = 0\n",
        "    if conunty not in mask_count:\n",
        "      mask_count[conunty] = 0\n",
        "    mask_count[conunty] += d[\"properties\"][\"mask_adult\"]\n",
        "\n",
        "# 將結果從大到小排列\n",
        "mask_count = dict(sorted(mask_count.items(), key=lambda item: item[1], reverse=True))\n",
        "\n",
        "mask_count\n",
        "# {'台北市': 12345, '新北市': 45678 ...}"
      ],
      "metadata": {
        "id": "C_psKwl-4CoR"
      },
      "execution_count": null,
      "outputs": []
    }
  ]
}